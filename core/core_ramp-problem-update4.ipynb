{
 "cells": [
  {
   "cell_type": "code",
   "execution_count": 2,
   "id": "c866d15c",
   "metadata": {},
   "outputs": [
    {
     "name": "stdout",
     "output_type": "stream",
     "text": [
      "Mencari posisi balok saat t\n",
      "133.97459621556106\n"
     ]
    },
    {
     "ename": "Terminator",
     "evalue": "",
     "output_type": "error",
     "traceback": [
      "\u001b[1;31m---------------------------------------------------------------------------\u001b[0m",
      "\u001b[1;31mTerminator\u001b[0m                                Traceback (most recent call last)",
      "Cell \u001b[1;32mIn [2], line 58\u001b[0m\n\u001b[0;32m     56\u001b[0m tt\u001b[39m.\u001b[39mwrite(x,\u001b[39m\"\u001b[39m\u001b[39mcm\u001b[39m\u001b[39m\"\u001b[39m)\n\u001b[0;32m     57\u001b[0m turtle\u001b[39m.\u001b[39mdone()\n\u001b[1;32m---> 58\u001b[0m turtle\u001b[39m.\u001b[39;49mmainloop()\n",
      "File \u001b[1;32m<string>:5\u001b[0m, in \u001b[0;36mmainloop\u001b[1;34m()\u001b[0m\n",
      "\u001b[1;31mTerminator\u001b[0m: "
     ]
    }
   ],
   "source": [
    "import math\n",
    "\n",
    "def posisi_balok(m,g,sudut,μs,t):\n",
    "    W = m*g\n",
    "    sudutlintasan = math.radians(sudut)\n",
    "    sina = math.sin(sudutlintasan)\n",
    "    Wx = W*sina\n",
    "    sudutlintasan = math.radians(sudut)\n",
    "    cosa = math.cos(sudutlintasan)\n",
    "    Wy = W*cosa\n",
    "    N = Wy\n",
    "    fs =  μs*N\n",
    "    ΣFx = Wx - fs\n",
    "    ax = ΣFx/m\n",
    "    x0 = 0\n",
    "    v0x = 0\n",
    "    posisi_balok = x0 + v0x*t + (1/2)*ax*t**2\n",
    "    return posisi_balok\n",
    "\n",
    "print(\"Mencari posisi balok saat t\")\n",
    "m = float (input(\"Masukkan massa benda = \"))\n",
    "g = float (input(\"Masukkan percepatan gravitasi = \"))\n",
    "sudut = float (input(\"Masukkan sudut = \"))\n",
    "μs = float(input('Masukkan koefisien gaya gesek = '))\n",
    "t = float (input(\"masukkan waktu = \"))\n",
    "\n",
    "x = posisi_balok(m,g,sudut,μs,t)\n",
    "print(x)\n",
    "\n",
    "y=x/5\n",
    "import turtle\n",
    "tt = turtle.Turtle()\n",
    "tt.forward(150) # draw base \n",
    "tt.left(90)\n",
    "tt.forward(100)\n",
    "tt.left(124)\n",
    "tt.forward(y)\n",
    "tt.right(90)\n",
    "tt.forward(50)\n",
    "tt.left(90)\n",
    "tt.forward(50)\n",
    "tt.left(90)\n",
    "tt.forward(50)\n",
    "tt.left(90)\n",
    "tt.forward(50)\n",
    "tt.backward(178-y)\n",
    "tt.penup()\n",
    "tt.goto(120,100)\n",
    "tt.write(x,\"cm\")\n",
    "turtle.done()\n",
    "turtle.mainloop()"
   ]
  }
 ],
 "metadata": {
  "kernelspec": {
   "display_name": "Python 3.10.7 64-bit",
   "language": "python",
   "name": "python3"
  },
  "language_info": {
   "codemirror_mode": {
    "name": "ipython",
    "version": 3
   },
   "file_extension": ".py",
   "mimetype": "text/x-python",
   "name": "python",
   "nbconvert_exporter": "python",
   "pygments_lexer": "ipython3",
   "version": "3.10.7"
  },
  "vscode": {
   "interpreter": {
    "hash": "229cdfb8eedfa4964725b7eb0da8d7a63b25d97a6ab808f09bd6b506844c0629"
   }
  }
 },
 "nbformat": 4,
 "nbformat_minor": 5
}
