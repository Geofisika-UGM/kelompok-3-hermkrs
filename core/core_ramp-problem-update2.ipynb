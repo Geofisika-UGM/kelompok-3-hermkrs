{
 "cells": [
  {
   "cell_type": "code",
   "execution_count": 1,
   "id": "c866d15c",
   "metadata": {},
   "outputs": [
    {
     "name": "stdout",
     "output_type": "stream",
     "text": [
      "Mencari posisi balok saat t\n"
     ]
    },
    {
     "data": {
      "text/plain": [
       "-10.966549397142584"
      ]
     },
     "execution_count": 1,
     "metadata": {},
     "output_type": "execute_result"
    }
   ],
   "source": [
    "import math\n",
    "def posisi(m,g,sudut,μs,t):\n",
    "    W = m*g\n",
    "    sudutlintasan = math.radians(sudut)\n",
    "    sina = math.sin(sudutlintasan)\n",
    "    Wx = W*sina\n",
    "    sudutlintasan = math.radians(sudut)\n",
    "    cosa = math.cos(sudutlintasan)\n",
    "    Wy = W*cosa\n",
    "    N = Wy\n",
    "    fs =  μs*N\n",
    "    ΣFx = Wx - fs\n",
    "    ax = ΣFx/m\n",
    "    x0 = 0\n",
    "    v0x = 0\n",
    "    posisi = x0 + v0x*t + (1/2)*ax*t**2\n",
    "    return posisi\n",
    "\n",
    "print(\"Mencari posisi balok saat t\")\n",
    "m = float (input(\"Masukkan massa benda = \"))\n",
    "g = float (input(\"Masukkan percepatan gravitasi = \"))\n",
    "sudut = float (input(\"Masukkan sudut = \"))\n",
    "μs = float(input('Masukkan koefisien gaya gesek = '))\n",
    "t = float (input(\"masukkan waktu = \"))\n",
    "\n",
    "posisi(m,g,sudut,μs,t)"
   ]
  }
 ],
 "metadata": {
  "kernelspec": {
   "display_name": "Python 3 (ipykernel)",
   "language": "python",
   "name": "python3"
  },
  "language_info": {
   "codemirror_mode": {
    "name": "ipython",
    "version": 3
   },
   "file_extension": ".py",
   "mimetype": "text/x-python",
   "name": "python",
   "nbconvert_exporter": "python",
   "pygments_lexer": "ipython3",
   "version": "3.10.7"
  },
  "vscode": {
   "interpreter": {
    "hash": "229cdfb8eedfa4964725b7eb0da8d7a63b25d97a6ab808f09bd6b506844c0629"
   }
  }
 },
 "nbformat": 4,
 "nbformat_minor": 5
}
