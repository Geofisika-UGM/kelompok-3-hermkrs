{
 "cells": [
  {
   "cell_type": "code",
   "execution_count": 31,
   "id": "145bd02d",
   "metadata": {},
   "outputs": [
    {
     "name": "stdout",
     "output_type": "stream",
     "text": [
      "Mencari Gaya Berat\n",
      "Masukkan massa benda = 10\n",
      "Masukkan percepatan gravitasi = 10\n",
      "100.0\n"
     ]
    }
   ],
   "source": [
    "# Rumus\n",
    "# W=m.g\n",
    "print(\"Mencari Gaya Berat\")\n",
    "m = float (input(\"Masukkan massa benda = \"))\n",
    "g = float (input(\"Masukkan percepatan gravitasi = \"))\n",
    "W = m*g\n",
    "print(W)"
   ]
  },
  {
   "cell_type": "code",
   "execution_count": 32,
   "id": "e6627f35",
   "metadata": {},
   "outputs": [
    {
     "name": "stdout",
     "output_type": "stream",
     "text": [
      "Mencari Gaya Berat Sumbux\n",
      "Masukkan sudut = 30\n",
      "Wx =  49.99999999999999\n",
      "Wy =  86.60254037844388\n"
     ]
    }
   ],
   "source": [
    "# Wx=W*sina\n",
    "print(\"Mencari Gaya Berat Sumbux\")\n",
    "sudut = float (input(\"Masukkan sudut = \"))\n",
    "sudutlintasan = math.radians(sudut)\n",
    "sina = math.sin(sudutlintasan)\n",
    "Wx = W*sina\n",
    "cosa = math.cos(sudutlintasan)\n",
    "Wy = W*cosa\n",
    "print(\"Wx = \", Wx)\n",
    "print(\"Wy = \", Wy)"
   ]
  },
  {
   "cell_type": "code",
   "execution_count": 33,
   "id": "1b249666",
   "metadata": {},
   "outputs": [
    {
     "name": "stdout",
     "output_type": "stream",
     "text": [
      "mencari gaya gesek\n",
      "Masukkan koefisien gaya gesek = 0.5\n",
      "Gaya gesek =  43.30127018922194\n"
     ]
    }
   ],
   "source": [
    "#fs =  μs*N\n",
    "#N = W\n",
    "print('mencari gaya gesek')\n",
    "μs = float(input('Masukkan koefisien gaya gesek = '))\n",
    "N = Wy\n",
    "fs =  μs*N\n",
    "print('Gaya gesek = ', fs)"
   ]
  },
  {
   "cell_type": "code",
   "execution_count": 34,
   "id": "c4e6b362",
   "metadata": {},
   "outputs": [
    {
     "name": "stdout",
     "output_type": "stream",
     "text": [
      "mencari gaya bidang miring\n",
      "Gaya bidang miring =  6.698729810778055\n"
     ]
    }
   ],
   "source": [
    "#ΣFx = Wx - fs\n",
    "print('mencari gaya bidang miring')\n",
    "ΣFx = Wx - fs\n",
    "print('Gaya bidang miring = ', ΣFx)"
   ]
  },
  {
   "cell_type": "code",
   "execution_count": 35,
   "id": "962960c3",
   "metadata": {},
   "outputs": [
    {
     "name": "stdout",
     "output_type": "stream",
     "text": [
      "ax =  0.6698729810778055\n"
     ]
    }
   ],
   "source": [
    "#ax = ΣFx/m\n",
    "ax = ΣFx/m\n",
    "print(\"ax = \", ax)"
   ]
  },
  {
   "cell_type": "code",
   "execution_count": 36,
   "id": "8d55ce3b",
   "metadata": {},
   "outputs": [
    {
     "name": "stdout",
     "output_type": "stream",
     "text": [
      "masukkan waktu = 20\n",
      "posisi saat t =  133.9745962155611 m\n"
     ]
    }
   ],
   "source": [
    "# x = x0 + vox*t + 1/2*ax*t**2\n",
    "\n",
    "t = float (input(\"masukkan waktu = \"))\n",
    "x0 = 0\n",
    "v0x = 0\n",
    "x = x0 + v0x*t + 1/2*ax*t**2\n",
    "print(\"posisi saat t = \", x, \"m\")"
   ]
  },
  {
   "cell_type": "code",
   "execution_count": null,
   "id": "f440a6b0",
   "metadata": {},
   "outputs": [],
   "source": []
  }
 ],
 "metadata": {
  "kernelspec": {
   "display_name": "Python 3.10.7 64-bit",
   "language": "python",
   "name": "python3"
  },
  "language_info": {
   "codemirror_mode": {
    "name": "ipython",
    "version": 3
   },
   "file_extension": ".py",
   "mimetype": "text/x-python",
   "name": "python",
   "nbconvert_exporter": "python",
   "pygments_lexer": "ipython3",
   "version": "3.10.7"
  },
  "vscode": {
   "interpreter": {
    "hash": "229cdfb8eedfa4964725b7eb0da8d7a63b25d97a6ab808f09bd6b506844c0629"
   }
  }
 },
 "nbformat": 4,
 "nbformat_minor": 5
}
